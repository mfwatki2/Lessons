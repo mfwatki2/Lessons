{
 "cells": [
  {
   "cell_type": "markdown",
   "id": "e07ceec8",
   "metadata": {},
   "source": [
    "# Save money on your heating bill!"
   ]
  },
  {
   "cell_type": "markdown",
   "id": "97369467",
   "metadata": {},
   "source": [
    "Ever wonder why 70&deg;F feels a lot colder in water than it does in air? Or why coffee mugs are made out of ceramics rather than metal? Ever heard of double-pane windows and wondered why two panes are better than one? The answer lies in a material property known as thermal conductivity, which is just a fancy way of saying how well a material transfers (or *conducts*) heat.\n",
    "\n",
    "We all know that behind the walls in our house there is a material called insulation that saves us money on our monthly heating bills. Yet have you ever stopped to wonder why this particular material is used? By now you might have guessed it, but it has to do with the thermal conductivity of the insulation! The rate of heat loss through a material ($\\dot{Q}$) is related to the thickness ($t$) and area ($A$) of the material, the temperature difference from one side of the material to the other ($\\Delta{T}$), and the thermal conductivity ($k$), per the equation below:\n",
    "\n",
    "<p style=\"text-align: center;\">$\\dot{Q}=kA \\frac{\\Delta{T}}{t}$       (1)</p>\n",
    "\n",
    "By using a material with a low thermal conductivity, the amount of heat lost through a wall can be minimized. Check out the table below to see how the thermal conductivity of insulation compares with other common materials. "
   ]
  },
  {
   "cell_type": "markdown",
   "id": "8987b222",
   "metadata": {},
   "source": [
    "<p style=\"text-align: center;\"><b>Thermal Conductivity of Everyday Materials</b></p>\n",
    "\n",
    "|Material|Thermal Conductivity (W/m-K)|\n",
    "|:----:|:----:|\n",
    "|Air|0.026|\n",
    "|Helium|0.15|\n",
    "|Water|0.6|\n",
    "|Insulation|0.043|\n",
    "|Copper pot|386|\n",
    "|Glass|1|\n",
    "|Porcelain|1.5|"
   ]
  },
  {
   "cell_type": "markdown",
   "id": "af2b3b5e",
   "metadata": {},
   "source": [
    "Now that we have a general understanding of how thermal conducitivity affects the heat transfer through a material, let's reconsider our initial set of questions. If you've ever been swimming in a pool that's set to 70&deg;F, you might have wondered why it feels so cold, yet standing in 70&deg;F air is much more tolerable. If you look at the table above, you'll now notice that the thermal conductivity of water is **23 times** greater than that of air, which means that the rate at which you lose heat from your body (typically 98.6&deg;F) is 23 times greater in water than in air! Brrr!\n",
    "\n",
    "Now what about your favorite coffee mug? If that mug was made of any metal, your coffee would cool down a lot faster than it does in your well-loved porcelain cup due to the significantly higher thermal conductivity of metals. And you'd also likely burn your hand, just like if you touched a hot pot on the stove.\n",
    "\n",
    "And finally, let's think about the windows in your house. Double-pane windows started becoming popular in the 1970s due to their significant cost savings over classic single-pane windows. Double-pane windwows are constructed from two panels of glass separated by a thin layer of a gaseous substance such as air. The extremely low thermal conductivity of air allows the air gap to act as an insulating layer, reducing the rate of heat transfer through the window. You'll explore this concept more in the \"Test It Out\" section below."
   ]
  },
  {
   "cell_type": "markdown",
   "id": "c37701bd",
   "metadata": {},
   "source": [
    "### Test It Out"
   ]
  },
  {
   "cell_type": "markdown",
   "id": "b7d463d9",
   "metadata": {},
   "source": [
    "Using the information we learned above, let's explore the relative cost savings we get by using double-pane windows in our house vs single-pane windows. Assume your house contains **8 windows**, each of which has an **area of 864in<sup>2</sup> (0.557m<sup>2</sup>)**. The rate of heat transfer through the single-pane window can be calculated using Equation (1) above, while the heat transfer rate through the double-pane window can be calculated using a variation on Equation (1) to consider the heat transfer through both panes of glass and the air gap. The calculations for both are set up below. \n",
    "\n",
    "Play around with the different input parameters. How does the heat transfer rate depend on the thickness of the glass and air gap? What if the gap between panes was instead filled with helium?\n"
   ]
  },
  {
   "cell_type": "markdown",
   "id": "b44cdc0b",
   "metadata": {},
   "source": [
    "#### Inputs"
   ]
  },
  {
   "cell_type": "code",
   "execution_count": 54,
   "id": "7179be87",
   "metadata": {},
   "outputs": [],
   "source": [
    "k_glass = 1                    #[W/m-K]\n",
    "k_air = 0.026                  #[W/m-K]\n",
    "A = 0.557                      #[m^2]\n",
    "t_glass_single = 0.25*0.0254   #[m]\n",
    "t_glass_double = 0.004         #[m]\n",
    "t_air = 0.25*0.0254            #[m]\n",
    "T_inside = 68                  #[degF]\n",
    "T_outside = 30                 #[degF]\n",
    "windowCount = 8                #[-]"
   ]
  },
  {
   "cell_type": "markdown",
   "id": "b8e95582",
   "metadata": {},
   "source": [
    "#### Single-Pane Window"
   ]
  },
  {
   "cell_type": "code",
   "execution_count": 62,
   "id": "906e5ad2",
   "metadata": {},
   "outputs": [
    {
     "name": "stdout",
     "output_type": "stream",
     "text": [
      "Total window thickness =  0.25 in\n",
      "Heat Transfer Rate through Single-Pane Window =  15.0 kW\n"
     ]
    }
   ],
   "source": [
    "T_inside_C = (T_inside-32)/1.8\n",
    "T_outside_C = (T_outside-32)/1.8\n",
    "Q_single = k_glass*A*(T_inside_C-T_outside_C)/t_glass_single*windowCount\n",
    "print('Total window thickness = ',(t_glass_single)/0.0254,'in')\n",
    "print('Heat Transfer Rate through Single-Pane Window = ',round(Q_single/1000,0),'kW')"
   ]
  },
  {
   "cell_type": "markdown",
   "id": "26d2af6b",
   "metadata": {},
   "source": [
    "#### Double-Pane Window"
   ]
  },
  {
   "cell_type": "code",
   "execution_count": 56,
   "id": "2ac05643",
   "metadata": {},
   "outputs": [
    {
     "name": "stdout",
     "output_type": "stream",
     "text": [
      "Total window thickness =  0.565 in\n",
      "Heat Transfer Rate through Double-Pane Window =  0.373 kW\n"
     ]
    }
   ],
   "source": [
    "R_total = 2*t_glass_double/(k_glass*A)+t_air/(k_air*A)\n",
    "Q_double = (T_inside_C-T_outside_C)/R_total*windowCount\n",
    "print('Total window thickness = ',round((2*t_glass_double+t_air)/0.0254,3),'in')\n",
    "print('Heat Transfer Rate through Double-Pane Window = ',round(Q_double/1000,3),'kW')"
   ]
  },
  {
   "cell_type": "markdown",
   "id": "1a1ad12c",
   "metadata": {},
   "source": [
    "#### Compare Single vs. Double"
   ]
  },
  {
   "cell_type": "code",
   "execution_count": 57,
   "id": "6fd54364",
   "metadata": {},
   "outputs": [
    {
     "name": "stdout",
     "output_type": "stream",
     "text": [
      "Reduction in heat loss =  97.5 %\n"
     ]
    }
   ],
   "source": [
    "print('Reduction in heat loss = ',round((Q_single-Q_double)/Q_single*100,1),'%')"
   ]
  },
  {
   "cell_type": "code",
   "execution_count": null,
   "id": "1b8ed61d",
   "metadata": {},
   "outputs": [],
   "source": []
  }
 ],
 "metadata": {
  "kernelspec": {
   "display_name": "Python 3 (ipykernel)",
   "language": "python",
   "name": "python3"
  },
  "language_info": {
   "codemirror_mode": {
    "name": "ipython",
    "version": 3
   },
   "file_extension": ".py",
   "mimetype": "text/x-python",
   "name": "python",
   "nbconvert_exporter": "python",
   "pygments_lexer": "ipython3",
   "version": "3.9.7"
  }
 },
 "nbformat": 4,
 "nbformat_minor": 5
}
